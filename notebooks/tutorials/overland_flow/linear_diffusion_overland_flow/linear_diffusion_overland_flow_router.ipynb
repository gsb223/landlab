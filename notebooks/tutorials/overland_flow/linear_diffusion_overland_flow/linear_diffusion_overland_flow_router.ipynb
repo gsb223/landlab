{
 "cells": [
  {
   "cell_type": "markdown",
   "metadata": {},
   "source": [
    "<a href=\"http://landlab.github.io\"><img style=\"float: left\" src=\"../../../landlab_header.png\"></a>"
   ]
  },
  {
   "cell_type": "markdown",
   "metadata": {},
   "source": [
    "# The Linear Diffusion Overland Flow Route"
   ]
  },
  {
   "cell_type": "markdown",
   "metadata": {},
   "source": [
    "<hr>\n",
    "<small>For more Landlab tutorials, click here: <a href=\"https://landlab.readthedocs.io/en/latest/user_guide/tutorials.html\">https://landlab.readthedocs.io/en/latest/user_guide/tutorials.html</a></small>\n",
    "<hr>"
   ]
  },
  {
   "cell_type": "markdown",
   "metadata": {},
   "source": [
    "## Overview\n",
    "\n",
    "This notebook demonstrates the `LinearDiffusionOverlandFlowRouter` Landlab component. The component implements a two-dimensional model of overland flow, based on a linearization of the diffusion-wave approximation of the shallow-water equations.\n",
    "\n",
    "### Theory\n",
    "\n",
    "#### Flow direction, depth, and velocity\n",
    "\n",
    "The diffusion-wave equations are a simplified form of the 2D shallow-water equations in which energy slope is assumed to equal water-surface slope. Conservation of water mass is expressed in terms of the time derivative of the local water depth, $H$, and the spatial derivative (divergence) of the unit discharge vector $\\mathbf{q} = UH$ (where $U$ is the 2D depth-averaged velocity vector):\n",
    "\n",
    "$$\\frac{\\partial H}{\\partial t} = R - \\nabla\\cdot \\mathbf{q}$$\n",
    "\n",
    "where $R$ is the local runoff rate [L/T] and $\\mathbf{q}$ has dimensions of volume flow per time per width [L$^2$/T]. The flow velocity is calculated using a linearized form of the Manning friction law:\n",
    "\n",
    "$$\\mathbf{U} = \\frac{H^{4/3}}{n^2 u_c} \\nabla w$$\n",
    "\n",
    "$$w = \\eta + H$$\n",
    "\n",
    "Here $\\eta(x,y,t)$ is ground-surface elevation, $w(x,y,t)$ is water-surface elevation, $n$ is the Manning friction coefficient, and $u_c$ is a characteristic scale velocity (see, e.g., Mariotti, 2018). Thus, there are two parameters governing flow speed: $n$ and $u_c$. The may, however, be treated as a single lumped parameter $n^2 u_c$.\n",
    "\n",
    "#### Rainfall and infiltration\n",
    "\n",
    "Runoff rate is calculated as the difference between the rates of precipitation, $P$, and infiltration, $I$. The user specifies a precipitation rate (which is a public variable that can be modified after instantiation), and a maximum infiltration rate, $I_c$. The actual infiltration rate depends on the available surface water, and is calculated in a way that allows it to approach zero as the surface-water depth approaches zero:\n",
    "\n",
    "$$I = I_c \\left( 1 - e^{-H/H_i} \\right)$$\n",
    "\n",
    "where $H_i$ is a characteristic water depth, defined such that the actual infiltration rate is about 95% of $I_c$ when $H = 3 H_i$.\n",
    "\n",
    "\n",
    "### The component\n",
    "\n",
    "Import the needed libraries, then inspect the component's docstring:"
   ]
  },
  {
   "cell_type": "code",
   "execution_count": 1,
   "metadata": {},
   "outputs": [],
   "source": [
    "import copy\n",
    "import numpy as np\n",
    "import matplotlib as mpl\n",
    "import matplotlib.pyplot as plt\n",
    "from landlab import RasterModelGrid, imshow_grid\n",
    "from landlab.components.overland_flow import LinearDiffusionOverlandFlowRouter\n",
    "from landlab.io.esri_ascii import read_esri_ascii"
   ]
  },
  {
   "cell_type": "code",
   "execution_count": 2,
   "metadata": {},
   "outputs": [
    {
     "name": "stdout",
     "output_type": "stream",
     "text": [
      "Calculate water flow over topography.\n",
      "\n",
      "    Landlab component that implements a two-dimensional, linearized\n",
      "    diffusion-wave model. The diffusion-wave approximation is a simplification\n",
      "    of the shallow-water equations that omits the momentum terms. The flow\n",
      "    velocity is calculated using the local water-surface slope as an\n",
      "    approximation of the energy slope. With this linearized form, flow velocity\n",
      "    is calculated using a linearized Manning equation, with the water-surface\n",
      "    slope being used as the slope factor. There are two governing equations, one\n",
      "    that represents conservation of water mass:\n",
      "\n",
      "    ..math::\n",
      "\n",
      "        \\frac{\\partial H}{\\partial t} = (P - I) - \\nabla\\cdot\\mathbf{q}\n",
      "\n",
      "    where :math:`H(x,y,t)` is local water depth, :math:`t` is time, :math:`P`\n",
      "    is precipitation rate, :math:`I` is infiltration rate, and :math:`\\mathbf{q}`\n",
      "    is specific water discharge, which equals depth times depth-averaged\n",
      "    velocity. The other governing equation represents specific discharge as a\n",
      "    function of gravity, pressure, and friction:\n",
      "\n",
      "    ..math::\n",
      "\n",
      "        \\mathbf{q} = \\frac{H^{4/3}}{n^2 U_c} \\nabla w\n",
      "\n",
      "    where :math:`n` is the friction factor (\"Manning's n\"), :math:`U_c` is a\n",
      "    characteristic flow velocity, and :math:`w` is water-surface height, which\n",
      "    is the sum of topographic elevation plus water depth.\n",
      "\n",
      "    Infiltration rate should decline smoothly to zero as surface water depth\n",
      "    approaches zero. To ensure this, infiltration rate is calculated as\n",
      "\n",
      "    ..math::\n",
      "\n",
      "        I = I_c \\left( 1 - e^{-H / H_i} ) \\right)\n",
      "\n",
      "    where :math:`H_i` is a characteristic water depth. The concept here is that\n",
      "    when :math:`H \\le H_i`, small spatial variations in water depth will leave\n",
      "    parts of the ground un-ponded and therefore not subject to any infiltration.\n",
      "    Mathematically, :math:`I \\approx 0.95 I_c` when :math:`H = 3H_i`.\n",
      "\n",
      "    Examples\n",
      "    --------\n",
      "    >>> from landlab import RasterModelGrid\n",
      "    >>> grid = RasterModelGrid((3, 3))\n",
      "    >>> _ = grid.add_zeros('topographic__elevation', at='node')\n",
      "    >>> olf = LinearDiffusionOverlandFlowRouter(grid, roughness=0.1)\n",
      "    >>> round(olf.vel_coef)\n",
      "    100\n",
      "    >>> olf.precip_rate\n",
      "    1e-05\n",
      "    >>> olf.precip_rate = 1.0e-4\n",
      "    >>> olf.run_one_step(dt=10.0)\n",
      "    >>> grid.at_node['surface_water__depth'][4]\n",
      "    0.001\n",
      "\n",
      "    References\n",
      "    ----------\n",
      "    **Required Software Citation(s) Specific to this Component**\n",
      "\n",
      "    None Listed\n",
      "\n",
      "    **Additional References**\n",
      "\n",
      "    None Listed\n",
      "\n",
      "    \n"
     ]
    }
   ],
   "source": [
    "print(LinearDiffusionOverlandFlowRouter.__doc__)"
   ]
  },
  {
   "cell_type": "markdown",
   "metadata": {},
   "source": [
    "The docstring for the `__init__` method will give us a list of parameters:"
   ]
  },
  {
   "cell_type": "code",
   "execution_count": 3,
   "metadata": {},
   "outputs": [
    {
     "name": "stdout",
     "output_type": "stream",
     "text": [
      "Initialize the LinearDiffusionOverlandFlowRouter.\n",
      "\n",
      "        Parameters\n",
      "        ----------\n",
      "        grid : ModelGrid\n",
      "            Landlab ModelGrid object\n",
      "        roughness : float, defaults to 0.01\n",
      "            Manning roughness coefficient, s/m^1/3\n",
      "        rain_rate : float, optional (defaults to 36 mm/hr)\n",
      "            Rainfall rate, m/s\n",
      "        infilt_depth_scale : float, defaults to 0.001\n",
      "            Depth scale for water infiltration, m\n",
      "        infilt_rate : float, optional (defaults to 0)\n",
      "            Maximum rate of infiltration, m/s\n",
      "        velocity_scale : float, defaults to 1\n",
      "            Characteristic flow velocity, m/s\n",
      "        \n"
     ]
    }
   ],
   "source": [
    "print(LinearDiffusionOverlandFlowRouter.__init__.__doc__)"
   ]
  },
  {
   "cell_type": "markdown",
   "metadata": {},
   "source": [
    "## Example 1: downpour on a single cell\n",
    "\n",
    "The first example tests that the component can reproduce the expected steady flow depth for rain on a single cell. The input water flow rate, in m3/s, is:\n",
    "\n",
    "$$Q_\\text{in} = P \\Delta x^2$$\n",
    "\n",
    "The output flow rate is\n",
    "\n",
    "$$Q_\\text{out} = \\frac{\\Delta x}{n^2 u_c} H^{7/3} S_w$$\n",
    "\n",
    "where $S_w$ is the water surface slope. We can write the water-surface slope in terms of the water height of the (one) core node (which just equals $H$, because the ground elevation is zero) and the water height at the adjacent open-boundary node, which is zero, so\n",
    "\n",
    "$$S_w = \\frac{H}{\\Delta x}$$\n",
    "\n",
    "We can therefore plug this into the equation for $Q_\\text{out}$ and solve for the expected equilibrium depth:\n",
    "\n",
    "$$H = \\left(\\Delta x^2 P n^2 u_c \\right)^{3/10}$$"
   ]
  },
  {
   "cell_type": "markdown",
   "metadata": {},
   "source": [
    "Pick the initial and run conditions"
   ]
  },
  {
   "cell_type": "code",
   "execution_count": 4,
   "metadata": {},
   "outputs": [],
   "source": [
    "# Process parameters\n",
    "n = 0.01  # roughness coefficient, (s/m^(1/3))\n",
    "vel_scale = 1.0  # velocity scale, m/s\n",
    "R = 72.0 / (3600.0 * 1000.0)  # runoff rate, m/s\n",
    "\n",
    "# Run-control parameters\n",
    "run_time = 360.0  # duration of run, (s)\n",
    "nrows = 3  # number of node rows\n",
    "ncols = 3  # number of node columns\n",
    "dx = 2.0  # node spacing, m\n",
    "dt = 2.0  # time-step size, s\n",
    "plot_every = 60.0  # plot interval, s\n",
    "\n",
    "# Derived parameters\n",
    "num_steps = int(run_time / dt)"
   ]
  },
  {
   "cell_type": "markdown",
   "metadata": {},
   "source": [
    "Create grid and fields:\n"
   ]
  },
  {
   "cell_type": "code",
   "execution_count": 5,
   "metadata": {},
   "outputs": [],
   "source": [
    "# create and set up grid\n",
    "grid = RasterModelGrid((nrows, ncols), xy_spacing=dx)\n",
    "grid.set_closed_boundaries_at_grid_edges(False, True, True, True)  # open only on east\n",
    "\n",
    "# add required field\n",
    "elev = grid.add_zeros(\"topographic__elevation\", at=\"node\")"
   ]
  },
  {
   "cell_type": "code",
   "execution_count": 6,
   "metadata": {},
   "outputs": [],
   "source": [
    "# Instantiate the component\n",
    "olflow = LinearDiffusionOverlandFlowRouter(\n",
    "    grid, rain_rate=R, roughness=n, velocity_scale=vel_scale\n",
    ")"
   ]
  },
  {
   "cell_type": "code",
   "execution_count": 7,
   "metadata": {},
   "outputs": [],
   "source": [
    "# Helpful function to plot the profile\n",
    "def plot_flow_profile(grid, olflow):\n",
    "    \"\"\"Plot the middle row of topography and water surface\n",
    "    for the overland flow model olflow.\"\"\"\n",
    "    nc = grid.number_of_node_columns\n",
    "    nr = grid.number_of_node_rows\n",
    "    startnode = nc * (nr // 2) + 1\n",
    "    midrow = np.arange(startnode, startnode + nc - 1, dtype=int)\n",
    "    topo = grid.at_node[\"topographic__elevation\"]\n",
    "    plt.plot(\n",
    "        grid.x_of_node[midrow],\n",
    "        topo[midrow] + grid.at_node[\"surface_water__depth\"][midrow],\n",
    "        \"b\",\n",
    "    )\n",
    "    plt.plot(grid.x_of_node[midrow], topo[midrow], \"k\")\n",
    "    plt.xlabel(\"Distance (m)\")\n",
    "    plt.ylabel(\"Ground and water surface height (m)\")"
   ]
  },
  {
   "cell_type": "markdown",
   "metadata": {},
   "source": [
    "Run the component forward in time, plotting the output in the form of a profile:"
   ]
  },
  {
   "cell_type": "code",
   "execution_count": 8,
   "metadata": {},
   "outputs": [
    {
     "data": {
      "image/png": "[encoded data removed]",
      "text/plain": [
       "<Figure size 432x288 with 1 Axes>"
      ]
     },
     "metadata": {
      "needs_background": "light"
     },
     "output_type": "display_data"
    }
   ],
   "source": [
    "next_plot = plot_every\n",
    "HH = []  # keep track of depth through time\n",
    "for i in range(num_steps):\n",
    "    olflow.run_one_step(dt)\n",
    "    if (i + 1) * dt >= next_plot:\n",
    "        plot_flow_profile(grid, olflow)\n",
    "        next_plot += plot_every\n",
    "    HH.append(grid.at_node['surface_water__depth'][4])"
   ]
  },
  {
   "cell_type": "code",
   "execution_count": 9,
   "metadata": {},
   "outputs": [
    {
     "name": "stdout",
     "output_type": "stream",
     "text": [
      "Expected depth = 0.0037232911332721395 m\n",
      "Computed depth = 0.00369261742221 m\n"
     ]
    }
   ],
   "source": [
    "# Compare with analytical solution for depth\n",
    "Rexpected = (dx * dx * R * n * n * vel_scale) ** 0.3\n",
    "print('Expected depth =', Rexpected, 'm')\n",
    "print('Computed depth =', grid.at_node['surface_water__depth'][4], 'm')"
   ]
  },
  {
   "cell_type": "code",
   "execution_count": 10,
   "metadata": {},
   "outputs": [
    {
     "data": {
      "text/plain": [
       "Text(0, 0.5, 'Water depth (m)')"
      ]
     },
     "execution_count": 10,
     "metadata": {},
     "output_type": "execute_result"
    },
    {
     "data": {
      "image/png": "[encoded data removed]",
      "text/plain": [
       "<Figure size 432x288 with 1 Axes>"
      ]
     },
     "metadata": {
      "needs_background": "light"
     },
     "output_type": "display_data"
    }
   ],
   "source": [
    "plt.plot(np.linspace(0, run_time, len(HH)), HH)\n",
    "plt.xlabel('Time (s)')\n",
    "plt.ylabel('Water depth (m)')"
   ]
  },
  {
   "cell_type": "code",
   "execution_count": 12,
   "metadata": {},
   "outputs": [
    {
     "name": "stdout",
     "output_type": "stream",
     "text": [
      "[-0.        -0.        -0.        -0.        -0.        -0.\n",
      "  0.0105303 -0.        -0.        -0.        -0.        -0.       ]\n",
      "[ 0.          0.          0.          0.00369149  0.          0.00369149\n",
      "  0.00369149  0.          0.00369149  0.          0.          0.        ]\n"
     ]
    },
    {
     "data": {
      "text/plain": [
       "array([6])"
      ]
     },
     "execution_count": 12,
     "metadata": {},
     "output_type": "execute_result"
    }
   ],
   "source": [
    "print(grid.at_link['water__velocity'])\n",
    "print(olflow._depth_at_link)\n",
    "grid.active_links"
   ]
  },
  {
   "cell_type": "markdown",
   "metadata": {},
   "source": [
    "## Example 2: overland flow on a DEM\n",
    "\n",
    "For this example, we'll import a small digital elevation model (DEM) for a site in New Mexico, USA."
   ]
  },
  {
   "cell_type": "code",
   "execution_count": null,
   "metadata": {},
   "outputs": [],
   "source": [
    "# Process parameters\n",
    "n = 0.1  # roughness coefficient, (s/m^(1/3))\n",
    "dep_exp = 5.0 / 3.0  # depth exponent\n",
    "R = 72.0  # runoff rate, mm/hr\n",
    "\n",
    "# Run-control parameters\n",
    "rain_duration = 240.0  # duration of rainfall, s\n",
    "run_time = 480.0  # duration of run, s\n",
    "dt = 10.0  # time-step size, s\n",
    "dem_filename = \"../hugo_site_filled.asc\"\n",
    "\n",
    "# Derived parameters\n",
    "num_steps = int(run_time / dt)\n",
    "\n",
    "# set up arrays to hold discharge and time\n",
    "time_since_storm_start = np.arange(0.0, dt * (2 * num_steps + 1), dt)\n",
    "discharge = np.zeros(2 * num_steps + 1)"
   ]
  },
  {
   "cell_type": "code",
   "execution_count": null,
   "metadata": {},
   "outputs": [],
   "source": [
    "# Read the DEM file as a grid with a 'topographic__elevation' field\n",
    "(grid, elev) = read_esri_ascii(dem_filename, name=\"topographic__elevation\")\n",
    "\n",
    "# Configure the boundaries: valid right-edge nodes will be open;\n",
    "# all NODATA (= -9999) nodes will be closed.\n",
    "grid.status_at_node[grid.nodes_at_right_edge] = grid.BC_NODE_IS_FIXED_VALUE\n",
    "grid.status_at_node[np.isclose(elev, -9999.0)] = grid.BC_NODE_IS_CLOSED"
   ]
  },
  {
   "cell_type": "code",
   "execution_count": null,
   "metadata": {},
   "outputs": [],
   "source": [
    "# display the topography\n",
    "cmap = copy.copy(mpl.cm.get_cmap(\"pink\"))\n",
    "imshow_grid(grid, elev, colorbar_label=\"Elevation (m)\", cmap=cmap)"
   ]
  },
  {
   "cell_type": "markdown",
   "metadata": {},
   "source": [
    "It would be nice to track discharge at the watershed outlet, but how do we find the outlet location? We actually have several valid nodes along the right-hand edge. Then we'll keep track of the field `surface_water_inflow__discharge` at these nodes. We can identify the nodes by the fact that they are (a) at the right-hand edge of the grid, and (b) have positive elevations (the ones with -9999 are outside of the watershed)."
   ]
  },
  {
   "cell_type": "code",
   "execution_count": null,
   "metadata": {},
   "outputs": [],
   "source": [
    "indices = np.where(elev[grid.nodes_at_right_edge] > 0.0)[0]\n",
    "outlet_nodes = grid.nodes_at_right_edge[indices]\n",
    "print(\"Outlet nodes:\")\n",
    "print(outlet_nodes)\n",
    "print(\"Elevations of the outlet nodes:\")\n",
    "print(elev[outlet_nodes])"
   ]
  },
  {
   "cell_type": "code",
   "execution_count": null,
   "metadata": {},
   "outputs": [],
   "source": [
    "# Instantiate the component\n",
    "olflow = KinwaveImplicitOverlandFlow(\n",
    "    grid, runoff_rate=R, roughness=n, depth_exp=dep_exp\n",
    ")"
   ]
  },
  {
   "cell_type": "code",
   "execution_count": null,
   "metadata": {},
   "outputs": [],
   "source": [
    "discharge_field = grid.at_node[\"surface_water_inflow__discharge\"]\n",
    "\n",
    "for i in range(num_steps):\n",
    "    olflow.run_one_step(dt)\n",
    "    discharge[i + 1] = np.sum(discharge_field[outlet_nodes])"
   ]
  },
  {
   "cell_type": "code",
   "execution_count": null,
   "metadata": {},
   "outputs": [],
   "source": [
    "plt.plot(time_since_storm_start[:num_steps], discharge[:num_steps])\n",
    "plt.xlabel(\"Time (s)\")\n",
    "plt.ylabel(\"Discharge (cms)\")\n",
    "plt.grid(True)"
   ]
  },
  {
   "cell_type": "code",
   "execution_count": null,
   "metadata": {},
   "outputs": [],
   "source": [
    "cmap = copy.copy(mpl.cm.get_cmap(\"Blues\"))\n",
    "imshow_grid(\n",
    "    grid,\n",
    "    grid.at_node[\"surface_water__depth\"],\n",
    "    cmap=cmap,\n",
    "    colorbar_label=\"Water depth (m)\",\n",
    ")"
   ]
  },
  {
   "cell_type": "markdown",
   "metadata": {},
   "source": [
    "Now turn down the rain and run it a bit longer..."
   ]
  },
  {
   "cell_type": "code",
   "execution_count": null,
   "metadata": {},
   "outputs": [],
   "source": [
    "olflow.runoff_rate = 1.0  # just 1 mm/hr\n",
    "\n",
    "for i in range(num_steps, 2 * num_steps):\n",
    "    olflow.run_one_step(dt)\n",
    "    discharge[i + 1] = np.sum(discharge_field[outlet_nodes])"
   ]
  },
  {
   "cell_type": "code",
   "execution_count": null,
   "metadata": {},
   "outputs": [],
   "source": [
    "plt.plot(time_since_storm_start, discharge)\n",
    "plt.xlabel(\"Time (s)\")\n",
    "plt.ylabel(\"Discharge (cms)\")\n",
    "plt.grid(True)"
   ]
  },
  {
   "cell_type": "code",
   "execution_count": null,
   "metadata": {},
   "outputs": [],
   "source": [
    "cmap = copy.copy(mpl.cm.get_cmap(\"Blues\"))\n",
    "imshow_grid(\n",
    "    grid,\n",
    "    grid.at_node[\"surface_water__depth\"],\n",
    "    cmap=cmap,\n",
    "    colorbar_label=\"Water depth (m)\",\n",
    ")"
   ]
  },
  {
   "cell_type": "markdown",
   "metadata": {},
   "source": [
    "Voila! A fine hydrograph, and a water-depth map that shows deeper water in the channels (and highlights depressions in the topography)."
   ]
  },
  {
   "cell_type": "code",
   "execution_count": null,
   "metadata": {},
   "outputs": [],
   "source": []
  },
  {
   "cell_type": "markdown",
   "metadata": {
    "collapsed": true
   },
   "source": [
    "### Click here for more <a href=\"https://landlab.readthedocs.io/en/latest/user_guide/tutorials.html\">Landlab tutorials</a>"
   ]
  }
 ],
 "metadata": {
  "kernelspec": {
   "display_name": "Python 3 (ipykernel)",
   "language": "python",
   "name": "python3"
  },
  "language_info": {
   "codemirror_mode": {
    "name": "ipython",
    "version": 3
   },
   "file_extension": ".py",
   "mimetype": "text/x-python",
   "name": "python",
   "nbconvert_exporter": "python",
   "pygments_lexer": "ipython3",
   "version": "3.8.12"
  }
 },
 "nbformat": 4,
 "nbformat_minor": 1
}
